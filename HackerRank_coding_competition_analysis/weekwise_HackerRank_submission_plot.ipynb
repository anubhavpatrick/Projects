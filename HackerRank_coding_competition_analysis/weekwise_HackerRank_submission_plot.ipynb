{
  "nbformat": 4,
  "nbformat_minor": 0,
  "metadata": {
    "colab": {
      "name": "Weekwise HackerRank Submission.ipynb",
      "provenance": []
    },
    "kernelspec": {
      "name": "python3",
      "display_name": "Python 3"
    },
    "language_info": {
      "name": "python"
    }
  },
  "cells": [
    {
      "cell_type": "code",
      "metadata": {
        "id": "5qjZA34BkebD"
      },
      "source": [
        "weekwise_submission = {\"M2 Week 1\": 477, \"M2 Week 2\" : 410, \"M2 Week 3\":349, \"M2 Week 4\": 411, \"M2 Week 5\": 432}"
      ],
      "execution_count": null,
      "outputs": []
    },
    {
      "cell_type": "code",
      "metadata": {
        "colab": {
          "base_uri": "https://localhost:8080/"
        },
        "id": "HK0k87JZmR8H",
        "outputId": "eb770496-a014-409e-925f-81cd584598d1"
      },
      "source": [
        "weekwise_submission"
      ],
      "execution_count": null,
      "outputs": [
        {
          "output_type": "execute_result",
          "data": {
            "text/plain": [
              "{'M2 Week 1': 477,\n",
              " 'M2 Week 2': 410,\n",
              " 'M2 Week 3': 349,\n",
              " 'M2 Week 4': 411,\n",
              " 'M2 Week 5': 432}"
            ]
          },
          "metadata": {
            "tags": []
          },
          "execution_count": 3
        }
      ]
    },
    {
      "cell_type": "code",
      "metadata": {
        "id": "JvSvjRAlsFjK"
      },
      "source": [
        "import statistics"
      ],
      "execution_count": 28,
      "outputs": []
    },
    {
      "cell_type": "code",
      "metadata": {
        "id": "MTJEFxQ4sOj9"
      },
      "source": [
        "m=statistics.mean(list(weekwise_submission.values()))"
      ],
      "execution_count": 37,
      "outputs": []
    },
    {
      "cell_type": "code",
      "metadata": {
        "colab": {
          "base_uri": "https://localhost:8080/",
          "height": 409
        },
        "id": "AILfehM8mZXC",
        "outputId": "3505c86b-9144-417c-f0fc-3209f4f82e2e"
      },
      "source": [
        "import matplotlib.pyplot as plt\n",
        "plt.rcParams[\"figure.figsize\"] = (8, 6)\n",
        "plt.bar(list(weekwise_submission.keys()),list(weekwise_submission.values()),color=\"orange\",width=0.7)\n",
        "l1=plt.axhline(y=1300, color='r', linestyle='-')\n",
        "l2=plt.axhline(y=m, color='g', linestyle='-')\n",
        "plot_lines=[]\n",
        "plot_lines.append([l1,l2])\n",
        "plt.legend(plot_lines[0],[\"Strength of First Year\",\"Average Submission\"])\n",
        "plt.yticks(range(0,1401,100))\n",
        "plt.ylabel(\"Number of students\")\n",
        "plt.xlabel(\"Weekwise Submission\")"
      ],
      "execution_count": 68,
      "outputs": [
        {
          "output_type": "execute_result",
          "data": {
            "text/plain": [
              "Text(0.5, 0, 'Weekwise Submission')"
            ]
          },
          "metadata": {
            "tags": []
          },
          "execution_count": 68
        },
        {
          "output_type": "display_data",
          "data": {
            "image/png": "[encoded data removed]",
            "text/plain": [
              "<Figure size 576x432 with 1 Axes>"
            ]
          },
          "metadata": {
            "tags": [],
            "needs_background": "light"
          }
        }
      ]
    },
    {
      "cell_type": "code",
      "metadata": {
        "colab": {
          "base_uri": "https://localhost:8080/"
        },
        "id": "aDlea2tQmvhP",
        "outputId": "dd33588c-8c9c-46c2-f9b4-68de6f2f4fe4"
      },
      "source": [
        "list(weekwise_submission.keys())"
      ],
      "execution_count": null,
      "outputs": [
        {
          "output_type": "execute_result",
          "data": {
            "text/plain": [
              "['M2 Week 1', 'M2 Week 2', 'M2 Week 3', 'M2 Week 4', 'M2 Week 5']"
            ]
          },
          "metadata": {
            "tags": []
          },
          "execution_count": 6
        }
      ]
    }
  ]
}