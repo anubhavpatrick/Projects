{
  "nbformat": 4,
  "nbformat_minor": 0,
  "metadata": {
    "colab": {
      "name": "ExtractHackerRankUsername.ipynb",
      "provenance": []
    },
    "kernelspec": {
      "name": "python3",
      "display_name": "Python 3"
    },
    "language_info": {
      "name": "python"
    }
  },
  "cells": [
    {
      "cell_type": "markdown",
      "metadata": {
        "id": "50eSQjrJ11zz"
      },
      "source": [
        "We will be using beautiful soup for parsing the html"
      ]
    },
    {
      "cell_type": "code",
      "metadata": {
        "colab": {
          "base_uri": "https://localhost:8080/"
        },
        "id": "GZ1tPSJo1T6B",
        "outputId": "cb47b059-6380-489d-d388-c756ada55730"
      },
      "source": [
        "!pip install beautifulsoup4"
      ],
      "execution_count": 42,
      "outputs": [
        {
          "output_type": "stream",
          "text": [
            "Requirement already satisfied: beautifulsoup4 in /usr/local/lib/python3.7/dist-packages (4.6.3)\n"
          ],
          "name": "stdout"
        }
      ]
    },
    {
      "cell_type": "code",
      "metadata": {
        "id": "nXBABeJp3ABk"
      },
      "source": [
        "import bs4\n",
        "import os"
      ],
      "execution_count": 1,
      "outputs": []
    },
    {
      "cell_type": "code",
      "metadata": {
        "colab": {
          "base_uri": "https://localhost:8080/"
        },
        "id": "TUMIztXnULDY",
        "outputId": "414f91e5-bf7b-4daa-f9b8-b23ba9c83765"
      },
      "source": [
        "filenames = os.listdir()\n",
        "filenames"
      ],
      "execution_count": 36,
      "outputs": [
        {
          "output_type": "execute_result",
          "data": {
            "text/plain": [
              "['.config',\n",
              " 'page3.html',\n",
              " 'page1.html',\n",
              " 'page4.html',\n",
              " 'page2.html',\n",
              " '.ipynb_checkpoints',\n",
              " 'sample_data']"
            ]
          },
          "metadata": {
            "tags": []
          },
          "execution_count": 36
        }
      ]
    },
    {
      "cell_type": "code",
      "metadata": {
        "colab": {
          "base_uri": "https://localhost:8080/"
        },
        "id": "nT6Gea2chO4X",
        "outputId": "bc715317-17a8-4633-d00e-634a00a301e9"
      },
      "source": [
        "\"\"\"Some tags have different class names ending with rg_3\n",
        "In following lines of code we change such class names so that they end with rg_5\n",
        "\"\"\"\n",
        "for filename in filenames:\n",
        "    if(filename.endswith(\".html\")):\n",
        "        print(filename)\n",
        "        file = open(filename,\"r+\")\n",
        "        str=file.read().replace(\"rg_3\",\"rg_5\")\n",
        "        #print(str)\n",
        "        file.seek(0)\n",
        "        file.write(str)\n",
        "        file.close()"
      ],
      "execution_count": 39,
      "outputs": [
        {
          "output_type": "stream",
          "text": [
            "page3.html\n",
            "page1.html\n",
            "page4.html\n",
            "page2.html\n"
          ],
          "name": "stdout"
        }
      ]
    },
    {
      "cell_type": "code",
      "metadata": {
        "colab": {
          "base_uri": "https://localhost:8080/"
        },
        "id": "bycNbSmEUX5s",
        "outputId": "58cdcd20-b176-4b38-c8de-a6568e62f60e"
      },
      "source": [
        "score_count=0 #variable to count score for data verification\n",
        "usernames_list=[]\n",
        "scores_list=[]\n",
        "for filename in filenames:\n",
        "    if(filename.endswith(\".html\")):\n",
        "        print(filename,end=\" \")\n",
        "        file = open(filename)\n",
        "        hr_parser = bs4.BeautifulSoup(file, \"html.parser\")\n",
        "        usernames=hr_parser.find_all(name=\"a\",attrs={\"class\":\"cursor leaderboard-hackername rg_5\"})\n",
        "        for username in usernames:\n",
        "            #print(username.contents[0].strip())\n",
        "            usernames_list.append(username.contents[0].strip())\n",
        "        print(f\"Usernames = {len(usernames)}\")\n",
        "\n",
        "        scores=hr_parser.find_all(name=\"div\",attrs={\"class\":\"span-flex-3\"})\n",
        "        for score in scores:\n",
        "            #print(len(score.contents[1].contents), score.contents[1].contents )\n",
        "            if len(score.contents[1].contents)==1:\n",
        "                #print(score.contents[1].contents[0].strip())\n",
        "                scores_list.append(score.contents[1].contents[0].strip())\n",
        "                score_count+=1\n",
        "        file.close()\n",
        "print(f\"Total username = {len(usernames_list)}\")\n",
        "print(f\"Total scores = {score_count}\")"
      ],
      "execution_count": 41,
      "outputs": [
        {
          "output_type": "stream",
          "text": [
            "page3.html Usernames = 100\n",
            "page1.html Usernames = 100\n",
            "page4.html Usernames = 100\n",
            "page2.html Usernames = 100\n",
            "Total username = 400\n",
            "Total scores = 400\n"
          ],
          "name": "stdout"
        }
      ]
    },
    {
      "cell_type": "code",
      "metadata": {
        "colab": {
          "base_uri": "https://localhost:8080/"
        },
        "id": "zGDVGSAAWboj",
        "outputId": "522c9fa0-38a2-4bc1-f2d3-72f1abd10524"
      },
      "source": [
        "usernames_list"
      ],
      "execution_count": 35,
      "outputs": [
        {
          "output_type": "execute_result",
          "data": {
            "text/plain": [
              "['sec_W_anuj44',\n",
              " 'sec_B_1066',\n",
              " 'Sec_I_1162',\n",
              " 'swati_2024en1146',\n",
              " 'kushagrathisside',\n",
              " 'kumarajeet300121',\n",
              " 'garvit_2024csit1',\n",
              " 'Sec_N_1178',\n",
              " 'Section_L_suraj',\n",
              " 'sec_v_1014',\n",
              " 'sec_x_1046',\n",
              " 'aman_2024ec1149',\n",
              " 'Sec_B_1060',\n",
              " 'sec_N_1053',\n",
              " 'Sec_S_1096',\n",
              " 'sec_B_1144',\n",
              " 'section_L_shiva',\n",
              " 'sec_D_1088',\n",
              " 'sec_L_1195',\n",
              " 'sec_W_Sarthak',\n",
              " 'kishlay_2024ec11',\n",
              " 'E_HarshGupta',\n",
              " 'zehra_2024csit11',\n",
              " 'sec_B_1141_cse',\n",
              " 'sec_f_1002',\n",
              " 'sec_D_1020',\n",
              " 'Sec_S_En1103',\n",
              " 'Sec_N_1190',\n",
              " 'sec_N_1043',\n",
              " 'sec_L_EN_1066',\n",
              " 'avi_2024CS1201',\n",
              " 'sec_I_1174',\n",
              " 'sec_v_1123',\n",
              " 'akkivishwa619',\n",
              " 'section_O_ananya',\n",
              " 'sec_B_1145',\n",
              " 'Sec_w_Abhay',\n",
              " 'sec_M_051',\n",
              " 'sec_d_1181',\n",
              " 'sec_M_1062',\n",
              " 'adesh_2024me1050',\n",
              " 'sec_k_2024me1062',\n",
              " 'Atg__',\n",
              " 'Sec_N_1153',\n",
              " 'harshita_2024en1',\n",
              " 'Section_L_Rajani',\n",
              " 'Sec_K_1001',\n",
              " 'sec_M_1066',\n",
              " 'rohit_thn',\n",
              " 'shivam2024cs1189',\n",
              " 'yash_2024en1046',\n",
              " 'Sec_D_1093',\n",
              " 'amit_2024me1030',\n",
              " 'paras_2024csit11',\n",
              " 'Hashy_9855',\n",
              " 'yashvardhan_2021',\n",
              " 'Sec_U_CSE_1049',\n",
              " 'sec_W_cse1132',\n",
              " 'monika_2024cs111',\n",
              " 'parth_2024me1084',\n",
              " 'sec_r_1054',\n",
              " 'sec_A_1030',\n",
              " 'Seq_b_1022',\n",
              " 'shreya_2024ec101',\n",
              " 'sec_B_1074',\n",
              " 'sec_i_1147',\n",
              " 'sec_M_1147',\n",
              " 'sec_n_1120',\n",
              " 'sec_p_1162',\n",
              " 'Piyush_2024en112',\n",
              " 'ankit_2024en1122',\n",
              " 'Sec_S_en1095',\n",
              " 'Sec_S_1036',\n",
              " 'sec_U_CSIT1113',\n",
              " 'sec_n_1155',\n",
              " 'sec_N_1108',\n",
              " 'E_ANUBHAV_CS1089',\n",
              " 'ashish_2024it111',\n",
              " 'sec_q_1016',\n",
              " 'abhash_2024en111',\n",
              " 'sec_M_1206',\n",
              " 'sec_U_ec1151',\n",
              " 'amitkumar730073',\n",
              " 'rishi_2024me1042',\n",
              " 'Shruti_2024cs101',\n",
              " 'Sec_S_cs1102',\n",
              " 'shrishti_kumari',\n",
              " 'Sec_I_1085',\n",
              " 'sec_I_035',\n",
              " 'varun_2024cs1163',\n",
              " 'Section_L_Arpan',\n",
              " 'aditya_2024cs101',\n",
              " 'tarun_2024en1005',\n",
              " 'harsh_p_1029',\n",
              " 'Rider_Sid',\n",
              " 'ayush_2024cs1200',\n",
              " 'akash_2024en1106',\n",
              " 'G_dev_24it1032',\n",
              " 'Niranjan_C_1128',\n",
              " 'Sec_U_Anshul',\n",
              " 'mridulcr7',\n",
              " 'sec_i_1180',\n",
              " 'soumenkp2_sec_M',\n",
              " 'Sec_S_cse1056',\n",
              " 'vishesh04',\n",
              " 'sec_U_CSE1026',\n",
              " 'not_available',\n",
              " 'sec_l_cs1041',\n",
              " 'sec_t_1113',\n",
              " 'shashank_it1047',\n",
              " 'sec_W_cs1069',\n",
              " 'sec_W_EN1052',\n",
              " 'sec_l_cse1062',\n",
              " 'sec_U_it1070',\n",
              " 'sec_j_1193',\n",
              " 'sec_U_it1098',\n",
              " 'sec_w_kartik39',\n",
              " 'sec_B_1164',\n",
              " 'sec_N_1141',\n",
              " 'sec_W_cs1045',\n",
              " 'sec_M_1047',\n",
              " 'saksham_2024cs11',\n",
              " 'sec_x_1055',\n",
              " 'Sec_M_1025',\n",
              " 'sec_M_1092',\n",
              " 'harsh_e_17it1079',\n",
              " 'Sec_N_1106',\n",
              " 'sec_M_1063',\n",
              " 'sec_R_1145',\n",
              " 'Sec_M_1109',\n",
              " 'sec_g_1093',\n",
              " 'sec_Uabhishek2',\n",
              " 'Sec_M_1023',\n",
              " 'Ujjawal_2024en11',\n",
              " 'sec_u_cse1044',\n",
              " 'sec_t_cse1160',\n",
              " 'Sec_K_CS1114',\n",
              " 'sec_I_1070',\n",
              " 'sec_W_ShikharRaj',\n",
              " 'sec_T_1186',\n",
              " 'sec_U_CS1057',\n",
              " 'sec_W_ECE1089',\n",
              " 'sec_K_cs1044',\n",
              " 'sec_t_1202',\n",
              " 'Shivendu_cs1136',\n",
              " 'sec_c_1186',\n",
              " 'SEC_M_010',\n",
              " 'sec_U_cse1065',\n",
              " 'sec_M_1079',\n",
              " 'naman_2024ce1046',\n",
              " 'rakshit_2024it11',\n",
              " 'sec_E_1127',\n",
              " 'sec_q_1032',\n",
              " 'Sec_S_cs1032',\n",
              " 'sec_N_1031',\n",
              " 'sec_T_1101',\n",
              " 'sec_n_1034',\n",
              " 'ajeet_p_1149',\n",
              " 'sec_m_1093',\n",
              " 'harsh_2024en1075',\n",
              " 'sec_c_1199',\n",
              " 'sec_p_1111',\n",
              " 'sec_M_025',\n",
              " 'sec_T_csit1058',\n",
              " 'Sec_U_UjjawalD',\n",
              " 'sec_L_piyush',\n",
              " 'Sec_P_ce1009',\n",
              " 'prashant_2024me',\n",
              " 'sec_f_1014',\n",
              " 'sec_I_1108',\n",
              " 'E_preksha_32csi1',\n",
              " 'harshvardhan_202',\n",
              " 'Sec_R_1044',\n",
              " 'ananya_2024me101',\n",
              " 'shubham_2024it11',\n",
              " 'E_sanidhya_24cs',\n",
              " 'riya_112',\n",
              " 'sec_G_1077bajpai',\n",
              " 'mayank1006',\n",
              " 'sec_U_ec1071',\n",
              " 'V3outiscoding',\n",
              " 'sec_r_1003',\n",
              " 'sec_q_1063',\n",
              " 'archit1203',\n",
              " 'maaz_2024it1057',\n",
              " 'sec_F_1032',\n",
              " 'Sec_g_1157',\n",
              " 'sec_U_AnkitaJain',\n",
              " 'sec_I_1190',\n",
              " 'Sec_E_1195',\n",
              " 'anushka_2024ec11',\n",
              " 'Sectionc2024cev',\n",
              " 'sec_R_1199',\n",
              " 'Section_L_Stuti',\n",
              " 'sec_c_1052',\n",
              " 'sec_x_1138',\n",
              " 'sec_N_1050',\n",
              " 'sec_J_1117',\n",
              " 'sec_K_1148',\n",
              " 'rudra_2024me1103',\n",
              " 'sec_B_1134',\n",
              " 'sec_j_1068',\n",
              " 'sec_a_1045',\n",
              " 'sec_i_1172',\n",
              " 'Ashish_F_1100',\n",
              " 'vipul_2024cse111',\n",
              " 'sec_d_1082',\n",
              " 'sec_j_1158',\n",
              " 'vishesh_2024it11',\n",
              " 'sec_f_1056',\n",
              " 'Shama_P_1159',\n",
              " 'secU_prashantpal',\n",
              " 'mohd_2024csit101',\n",
              " 'gulshan_2024csi1',\n",
              " 'sec_W_Nikhil',\n",
              " 'sec_B_1073',\n",
              " 'sec_f_1159',\n",
              " 'Sec_N_1012',\n",
              " 'Sec_S_1162',\n",
              " 'sec_a_1080',\n",
              " 'sec_j_1094',\n",
              " 'sec_j_1028',\n",
              " 'sec_c_1158',\n",
              " 'Sec_S_it1036',\n",
              " 'paras_2024cs1100',\n",
              " 'sec_B_1022_en',\n",
              " 'athar_2024en1038',\n",
              " 'sec_l_Anmolpatel',\n",
              " 'Sec_c_1178',\n",
              " 'sec_W_en1050',\n",
              " 'charuvi_2024ec11',\n",
              " 'sec_t_1040',\n",
              " 'sec_P_1004',\n",
              " 'utkarsh_ec_1056K',\n",
              " 'sec_c_1025',\n",
              " 'Sec_E_1123',\n",
              " 'Section_L_deepti',\n",
              " 'Sec_A_1181',\n",
              " 'umang_2024csit11',\n",
              " 'Sec_j_1084',\n",
              " 'sec_j_1171',\n",
              " 'sec_a_1203',\n",
              " 'shivamtyagivivo1',\n",
              " 'sec_d_1124',\n",
              " 'sec_N_1139',\n",
              " 'sec_U_Jaanvi',\n",
              " 'SEC_N_1181',\n",
              " 'kartik_2024ec',\n",
              " 'manish_2024cs111',\n",
              " 'sec_N_1057',\n",
              " 'abhishek_2024cs1',\n",
              " 'sec_x_1088',\n",
              " 'sec_I_040',\n",
              " 'sec_i_1123',\n",
              " 'priyanshu_2024i1',\n",
              " 'sec_B_1196',\n",
              " 'harsh_2024it1177',\n",
              " 'Sec_t_1115',\n",
              " 'sec_B_1155',\n",
              " 'SEC_U_Anurag',\n",
              " 'ujjwal_2024it101',\n",
              " 'sec_A_1017',\n",
              " 'Sec_S_cse1021',\n",
              " 'sec_i_1091',\n",
              " 'sec_X_1104',\n",
              " 'sec_A_1184',\n",
              " 'harsh_2024cs1106',\n",
              " 'sec_D_1155',\n",
              " 'sec_Q_1183',\n",
              " 'section_W_ec1195',\n",
              " 'sec_B_1002',\n",
              " 'sec_O_csit1146',\n",
              " 'sec_h_1149',\n",
              " 'sec_S_1180',\n",
              " 'sec_R_1082',\n",
              " 'sec_L_1191',\n",
              " 'manas_2024me1114',\n",
              " 'ayush_kumar_e_10',\n",
              " 'akash2286532',\n",
              " 'divyajyoti_20242',\n",
              " 'sec_f_1008',\n",
              " 'akshat_2024en101',\n",
              " 'Rakhi_R_1174',\n",
              " 'sec_L_1160',\n",
              " 'Sec_c_1175',\n",
              " 'taniya_2024cs101',\n",
              " 'sec_M_1014',\n",
              " 'janhvi_2024it101',\n",
              " 'sec_I_1159',\n",
              " 'sec_P_1099',\n",
              " 'sec_W_cse1159',\n",
              " 'srishti_2024it11',\n",
              " 'sec_B_1009',\n",
              " 'Sec_S_cs1147',\n",
              " 'sec_x_1124',\n",
              " 'nupur_2024it1191',\n",
              " 'sec_t_it1120',\n",
              " 'sec_L_Naman',\n",
              " 'ayushi_1140',\n",
              " 'sec_x_1140',\n",
              " 'Akash_2024ec1200',\n",
              " 'H_Arjit_Goyal',\n",
              " 'sec_v_1023',\n",
              " 'sujeet_2024ec111',\n",
              " 'ekta_2024it1166',\n",
              " 'sec_m_1189',\n",
              " 'Sahil_Bhragudev',\n",
              " 'sec_T_en1134',\n",
              " 'Sec_L_Ashmit',\n",
              " 'sec_j_1119',\n",
              " 'Sec_S_csit1077',\n",
              " 'sec_r_1068',\n",
              " 'sec_q_1067',\n",
              " 'sec_j_1107',\n",
              " 'Etushar24cse1027',\n",
              " 'aryan_2024ec1041',\n",
              " 'aryan_2024ec1055',\n",
              " 'Sec_N_1103',\n",
              " 'sec_x_1053',\n",
              " 'Sec_N_1111',\n",
              " 'Viraaj_1190',\n",
              " 'sec_i_1139',\n",
              " 'sec_W_cs1079',\n",
              " 'sec_i_1032',\n",
              " 'sec_B_1022',\n",
              " '_pushpendra_12',\n",
              " 'sec_n_1134',\n",
              " 'sec_r_1116',\n",
              " 'sec_I_1068',\n",
              " 'Sec_E_1045_it',\n",
              " 'Kartik_2024en101',\n",
              " 'sec_B_1078',\n",
              " 'mayank_2024en111',\n",
              " 'nikita_2024cs111',\n",
              " 'sec_c_1022',\n",
              " 'deepak_2024ec111',\n",
              " 'mayank_2024ce101',\n",
              " 'sec_t_1016',\n",
              " 'Sec_t_1006',\n",
              " 'E_yashasvi1136',\n",
              " 'sec_v_1005',\n",
              " 'sec_u_vishal',\n",
              " 'sec_K_ec1087',\n",
              " 'sec_U_csit1025',\n",
              " 'Sec_L_Shraddha',\n",
              " 'sec_H_1087',\n",
              " 'sec_x_1028',\n",
              " 'Sec_N_1074',\n",
              " 'sec_N_1201',\n",
              " 'sec_T_1163',\n",
              " 'sec_X_ec_1185',\n",
              " 'Shreeya_2024me11',\n",
              " 'Sec_S_cse1191',\n",
              " 'sec_N_1205',\n",
              " 'anshika_2024cse1',\n",
              " 'sec_t_it_1021',\n",
              " 'sec_T_IT1093',\n",
              " 'sec_g_1112',\n",
              " 'ashish_2024csit2',\n",
              " 'sec_T_cse1177',\n",
              " 'sec_M_1192',\n",
              " 'rohit_2024it1078',\n",
              " 'Sec_S_it1064',\n",
              " 'sec_B_1032',\n",
              " 'aashishraghav24',\n",
              " 'sec_T_1127',\n",
              " 'amit_2024ce1060',\n",
              " 'sec_x_1019',\n",
              " 'sec_Q_1034',\n",
              " 'pratham_2024cs11',\n",
              " 'Sec_M_1084',\n",
              " 'SEC_R_1121',\n",
              " 'sec_M_1016',\n",
              " 'sec_M_1137',\n",
              " 'sec_i_1045',\n",
              " 'sec_a_1183',\n",
              " 'ritu_2024it1143',\n",
              " '_sec_R_1003',\n",
              " 'sec_N_1132',\n",
              " 'Sec_N_1069',\n",
              " 'Lce1026',\n",
              " 'sec_c_1010',\n",
              " 'sec_k_it1085',\n",
              " 'sec_x_1002',\n",
              " 'sec_i_1041',\n",
              " 'sec_M_040_',\n",
              " 'Shaku_in',\n",
              " 'sec_W_TejashSeth',\n",
              " 'Sec_I_01139',\n",
              " 'SECTION_L_SAUMYA',\n",
              " 'sec_W_cs1151',\n",
              " 'arpit_i_1025',\n",
              " 'sec_j_1091',\n",
              " 'Sec_S_cse1110',\n",
              " 'Aashika_1139',\n",
              " 'rahul_2024en1045',\n",
              " 'Section_L_diksha',\n",
              " 'sec_g_1057',\n",
              " 'Sec_I_1182']"
            ]
          },
          "metadata": {
            "tags": []
          },
          "execution_count": 35
        }
      ]
    },
    {
      "cell_type": "code",
      "metadata": {
        "colab": {
          "base_uri": "https://localhost:8080/"
        },
        "id": "4khtqvFtWga7",
        "outputId": "bb357f93-bc78-47c0-8547-243fa013b3c8"
      },
      "source": [
        "len(scores_list)"
      ],
      "execution_count": 78,
      "outputs": [
        {
          "output_type": "execute_result",
          "data": {
            "text/plain": [
              "400"
            ]
          },
          "metadata": {
            "tags": []
          },
          "execution_count": 78
        }
      ]
    },
    {
      "cell_type": "code",
      "metadata": {
        "id": "k7a1BC6E1nAN"
      },
      "source": [
        "file = open(\"/content/Leaderboard _ HackerRank.html\")"
      ],
      "execution_count": 44,
      "outputs": []
    },
    {
      "cell_type": "code",
      "metadata": {
        "id": "PTGAOcf51yM3"
      },
      "source": [
        "hr_parser = bs4.BeautifulSoup(file, \"html.parser\")"
      ],
      "execution_count": 45,
      "outputs": []
    },
    {
      "cell_type": "code",
      "metadata": {
        "id": "C-bDqHIE11CX"
      },
      "source": [
        "usernames=hr_parser.find_all(name=\"a\",attrs={\"class\":\"cursor leaderboard-hackername rg_5\"})"
      ],
      "execution_count": 46,
      "outputs": []
    },
    {
      "cell_type": "code",
      "metadata": {
        "colab": {
          "base_uri": "https://localhost:8080/"
        },
        "id": "nvrrtdhi4vGn",
        "outputId": "bfa7c34c-046e-4ebd-bc14-075c5a75778b"
      },
      "source": [
        "type(usernames)"
      ],
      "execution_count": 47,
      "outputs": [
        {
          "output_type": "execute_result",
          "data": {
            "text/plain": [
              "bs4.element.ResultSet"
            ]
          },
          "metadata": {
            "tags": []
          },
          "execution_count": 47
        }
      ]
    },
    {
      "cell_type": "code",
      "metadata": {
        "colab": {
          "base_uri": "https://localhost:8080/"
        },
        "id": "9KRynbrt6FAI",
        "outputId": "0ec64e2d-e366-4400-8b66-c4717b349cf9"
      },
      "source": [
        "for username in usernames:\n",
        "    print(username.contents[0].strip())\n",
        "len(usernames)"
      ],
      "execution_count": 48,
      "outputs": [
        {
          "output_type": "stream",
          "text": [
            "sec_B_1009\n",
            "sec_B_1148\n",
            "sec_B_1178\n",
            "sec_B_1002\n",
            "sec_B_1068\n",
            "sec_B_1141\n",
            "sec_B_1144\n",
            "sec_B_1032\n",
            "sec_B_1075\n",
            "sec_B_1022_en\n",
            "sec_B_1078_\n",
            "sec_B_1066\n",
            "sec_B_1039\n",
            "sec_B_1160\n"
          ],
          "name": "stdout"
        },
        {
          "output_type": "execute_result",
          "data": {
            "text/plain": [
              "14"
            ]
          },
          "metadata": {
            "tags": []
          },
          "execution_count": 48
        }
      ]
    },
    {
      "cell_type": "code",
      "metadata": {
        "colab": {
          "base_uri": "https://localhost:8080/"
        },
        "id": "WSoIq-BX-BRT",
        "outputId": "46010629-c417-4932-8382-610587427696"
      },
      "source": [
        "scores=hr_parser.find_all(name=\"div\",attrs={\"class\":\"span-flex-3\"})\n",
        "type(scores)"
      ],
      "execution_count": 49,
      "outputs": [
        {
          "output_type": "execute_result",
          "data": {
            "text/plain": [
              "bs4.element.ResultSet"
            ]
          },
          "metadata": {
            "tags": []
          },
          "execution_count": 49
        }
      ]
    },
    {
      "cell_type": "code",
      "metadata": {
        "colab": {
          "base_uri": "https://localhost:8080/"
        },
        "id": "xa56UKINKxAW",
        "outputId": "a8f2fece-fe4e-42a1-e0c1-c33079c5dbba"
      },
      "source": [
        "score_count=0\n",
        "for score in scores:\n",
        "\n",
        "    #print(len(score.contents[1].contents), score.contents[1].contents )\n",
        "    if len(score.contents[1].contents)==1:\n",
        "        print(score.contents[1].contents[0].strip())\n",
        "        score_count+=1\n",
        "print(score_count)"
      ],
      "execution_count": 53,
      "outputs": [
        {
          "output_type": "stream",
          "text": [
            "10.00\n",
            "10.00\n",
            "10.00\n",
            "10.00\n",
            "10.00\n",
            "10.00\n",
            "10.00\n",
            "10.00\n",
            "10.00\n",
            "10.00\n",
            "10.00\n",
            "0.00\n",
            "0.00\n",
            "0.00\n",
            "14\n"
          ],
          "name": "stdout"
        }
      ]
    }
  ]
}