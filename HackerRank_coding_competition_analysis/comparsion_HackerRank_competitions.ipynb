{
  "nbformat": 4,
  "nbformat_minor": 0,
  "metadata": {
    "colab": {
      "name": "Comparsion_HackerRank_Various_Competitions.ipynb",
      "provenance": []
    },
    "kernelspec": {
      "name": "python3",
      "display_name": "Python 3"
    },
    "language_info": {
      "name": "python"
    }
  },
  "cells": [
    {
      "cell_type": "code",
      "metadata": {
        "id": "5qjZA34BkebD"
      },
      "source": [
        "weekwise_submission = {\"Coding Competition #1\": 737, \"Coding Competition #2\" : 793, \"Coding Competition #3\":750}"
      ],
      "execution_count": 1,
      "outputs": []
    },
    {
      "cell_type": "code",
      "metadata": {
        "colab": {
          "base_uri": "https://localhost:8080/"
        },
        "id": "HK0k87JZmR8H",
        "outputId": "dc0413a6-87c6-41ae-934b-f938c45f7a91"
      },
      "source": [
        "weekwise_submission"
      ],
      "execution_count": 2,
      "outputs": [
        {
          "output_type": "execute_result",
          "data": {
            "text/plain": [
              "{'Coding Competition #1': 737,\n",
              " 'Coding Competition #2': 793,\n",
              " 'Coding Competition #3': 750}"
            ]
          },
          "metadata": {
            "tags": []
          },
          "execution_count": 2
        }
      ]
    },
    {
      "cell_type": "code",
      "metadata": {
        "id": "JvSvjRAlsFjK"
      },
      "source": [
        "import statistics"
      ],
      "execution_count": 3,
      "outputs": []
    },
    {
      "cell_type": "code",
      "metadata": {
        "id": "MTJEFxQ4sOj9"
      },
      "source": [
        "m=statistics.mean(list(weekwise_submission.values()))"
      ],
      "execution_count": 4,
      "outputs": []
    },
    {
      "cell_type": "code",
      "metadata": {
        "colab": {
          "base_uri": "https://localhost:8080/",
          "height": 426
        },
        "id": "AILfehM8mZXC",
        "outputId": "34d81e75-853b-49bf-f085-3d1bd04bbee6"
      },
      "source": [
        "import matplotlib.pyplot as plt\n",
        "plt.rcParams[\"figure.figsize\"] = (8, 6)\n",
        "plt.bar(list(weekwise_submission.keys()),list(weekwise_submission.values()),color=\"orange\",width=0.7)\n",
        "l1=plt.axhline(y=1300, color='r', linestyle='-')\n",
        "l2=plt.axhline(y=m, color='g', linestyle='-')\n",
        "plot_lines=[]\n",
        "plot_lines.append([l1,l2])\n",
        "plt.legend(plot_lines[0],[\"Strength of First Year\",\"Average Submission\"])\n",
        "plt.yticks(range(0,1401,100))\n",
        "plt.ylabel(\"Number of students\",fontsize=12)\n",
        "plt.xlabel(\"Various Coding Competitions\",fontsize=12)\n",
        "plt.title(\"Submission Summary of Coding Competitions\",fontsize=15)"
      ],
      "execution_count": 11,
      "outputs": [
        {
          "output_type": "execute_result",
          "data": {
            "text/plain": [
              "Text(0.5, 1.0, 'Submission Summary of Coding Competitions')"
            ]
          },
          "metadata": {
            "tags": []
          },
          "execution_count": 11
        },
        {
          "output_type": "display_data",
          "data": {
            "image/png": "[encoded data removed]",
            "text/plain": [
              "<Figure size 576x432 with 1 Axes>"
            ]
          },
          "metadata": {
            "tags": [],
            "needs_background": "light"
          }
        }
      ]
    },
    {
      "cell_type": "code",
      "metadata": {
        "id": "8jHfT-5myPkF"
      },
      "source": [
        ""
      ],
      "execution_count": null,
      "outputs": []
    }
  ]
}